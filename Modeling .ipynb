{
 "cells": [
  {
   "cell_type": "markdown",
   "id": "f58b9ff3",
   "metadata": {},
   "source": [
    "# Imports "
   ]
  },
  {
   "cell_type": "code",
   "execution_count": 1,
   "id": "c82bbfa0",
   "metadata": {},
   "outputs": [],
   "source": [
    "import pandas as pd\n",
    "import numpy as np\n",
    "import os\n",
    "import pickle\n",
    "import matplotlib.pyplot as plt\n",
    "import seaborn as sns\n",
    "from sklearn import __version__ as sklearn_version\n",
    "from sklearn.decomposition import PCA\n",
    "from sklearn.preprocessing import scale\n",
    "from sklearn.model_selection import train_test_split, cross_validate, GridSearchCV, learning_curve\n",
    "from sklearn.preprocessing import StandardScaler, MinMaxScaler\n",
    "from sklearn.dummy import DummyRegressor\n",
    "from sklearn.tree import DecisionTreeClassifier\n",
    "from sklearn.linear_model import LinearRegression\n",
    "from sklearn.ensemble import RandomForestRegressor\n",
    "from sklearn.model_selection import RandomizedSearchCV, train_test_split\n",
    "from sklearn.pipeline import make_pipeline\n",
    "from sklearn.impute import SimpleImputer\n",
    "from sklearn.feature_selection import SelectKBest, f_regression"
   ]
  },
  {
   "cell_type": "markdown",
   "id": "15bc7b29",
   "metadata": {},
   "source": [
    "# Loading the data "
   ]
  },
  {
   "cell_type": "code",
   "execution_count": 2,
   "id": "13151c8c",
   "metadata": {},
   "outputs": [
    {
     "data": {
      "text/html": [
       "<div>\n",
       "<style scoped>\n",
       "    .dataframe tbody tr th:only-of-type {\n",
       "        vertical-align: middle;\n",
       "    }\n",
       "\n",
       "    .dataframe tbody tr th {\n",
       "        vertical-align: top;\n",
       "    }\n",
       "\n",
       "    .dataframe thead th {\n",
       "        text-align: right;\n",
       "    }\n",
       "</style>\n",
       "<table border=\"1\" class=\"dataframe\">\n",
       "  <thead>\n",
       "    <tr style=\"text-align: right;\">\n",
       "      <th></th>\n",
       "      <th>Unnamed: 0.1</th>\n",
       "      <th>Unnamed: 0</th>\n",
       "      <th>Marital status</th>\n",
       "      <th>Application mode</th>\n",
       "      <th>Application order</th>\n",
       "      <th>Course</th>\n",
       "      <th>Daytime/evening attendance\\t</th>\n",
       "      <th>Previous qualification</th>\n",
       "      <th>Previous qualification (grade)</th>\n",
       "      <th>Nacionality</th>\n",
       "      <th>...</th>\n",
       "      <th>Curricular units 2nd sem (evaluations)</th>\n",
       "      <th>Curricular units 2nd sem (approved)</th>\n",
       "      <th>Curricular units 2nd sem (grade)</th>\n",
       "      <th>Curricular units 2nd sem (without evaluations)</th>\n",
       "      <th>Unemployment rate</th>\n",
       "      <th>Inflation rate</th>\n",
       "      <th>GDP</th>\n",
       "      <th>Target</th>\n",
       "      <th>Adj net enrollment of lower secondary</th>\n",
       "      <th>Tertiary educ enrollment(all programs)</th>\n",
       "    </tr>\n",
       "  </thead>\n",
       "  <tbody>\n",
       "    <tr>\n",
       "      <th>0</th>\n",
       "      <td>0</td>\n",
       "      <td>0</td>\n",
       "      <td>1</td>\n",
       "      <td>17</td>\n",
       "      <td>5</td>\n",
       "      <td>171</td>\n",
       "      <td>1</td>\n",
       "      <td>1</td>\n",
       "      <td>122.0</td>\n",
       "      <td>1</td>\n",
       "      <td>...</td>\n",
       "      <td>0</td>\n",
       "      <td>0</td>\n",
       "      <td>0.000000</td>\n",
       "      <td>0</td>\n",
       "      <td>10.8</td>\n",
       "      <td>1.4</td>\n",
       "      <td>1.74</td>\n",
       "      <td>0</td>\n",
       "      <td>85.185539</td>\n",
       "      <td>362200.0</td>\n",
       "    </tr>\n",
       "    <tr>\n",
       "      <th>1</th>\n",
       "      <td>1</td>\n",
       "      <td>1</td>\n",
       "      <td>1</td>\n",
       "      <td>15</td>\n",
       "      <td>1</td>\n",
       "      <td>9254</td>\n",
       "      <td>1</td>\n",
       "      <td>1</td>\n",
       "      <td>160.0</td>\n",
       "      <td>1</td>\n",
       "      <td>...</td>\n",
       "      <td>6</td>\n",
       "      <td>6</td>\n",
       "      <td>13.666667</td>\n",
       "      <td>0</td>\n",
       "      <td>13.9</td>\n",
       "      <td>-0.3</td>\n",
       "      <td>0.79</td>\n",
       "      <td>1</td>\n",
       "      <td>85.185539</td>\n",
       "      <td>362200.0</td>\n",
       "    </tr>\n",
       "    <tr>\n",
       "      <th>2</th>\n",
       "      <td>2</td>\n",
       "      <td>2</td>\n",
       "      <td>1</td>\n",
       "      <td>1</td>\n",
       "      <td>5</td>\n",
       "      <td>9070</td>\n",
       "      <td>1</td>\n",
       "      <td>1</td>\n",
       "      <td>122.0</td>\n",
       "      <td>1</td>\n",
       "      <td>...</td>\n",
       "      <td>0</td>\n",
       "      <td>0</td>\n",
       "      <td>0.000000</td>\n",
       "      <td>0</td>\n",
       "      <td>10.8</td>\n",
       "      <td>1.4</td>\n",
       "      <td>1.74</td>\n",
       "      <td>0</td>\n",
       "      <td>85.185539</td>\n",
       "      <td>362200.0</td>\n",
       "    </tr>\n",
       "    <tr>\n",
       "      <th>3</th>\n",
       "      <td>3</td>\n",
       "      <td>3</td>\n",
       "      <td>1</td>\n",
       "      <td>17</td>\n",
       "      <td>2</td>\n",
       "      <td>9773</td>\n",
       "      <td>1</td>\n",
       "      <td>1</td>\n",
       "      <td>122.0</td>\n",
       "      <td>1</td>\n",
       "      <td>...</td>\n",
       "      <td>10</td>\n",
       "      <td>5</td>\n",
       "      <td>12.400000</td>\n",
       "      <td>0</td>\n",
       "      <td>9.4</td>\n",
       "      <td>-0.8</td>\n",
       "      <td>-3.12</td>\n",
       "      <td>1</td>\n",
       "      <td>85.185539</td>\n",
       "      <td>362200.0</td>\n",
       "    </tr>\n",
       "    <tr>\n",
       "      <th>4</th>\n",
       "      <td>4</td>\n",
       "      <td>4</td>\n",
       "      <td>2</td>\n",
       "      <td>39</td>\n",
       "      <td>1</td>\n",
       "      <td>8014</td>\n",
       "      <td>0</td>\n",
       "      <td>1</td>\n",
       "      <td>100.0</td>\n",
       "      <td>1</td>\n",
       "      <td>...</td>\n",
       "      <td>6</td>\n",
       "      <td>6</td>\n",
       "      <td>13.000000</td>\n",
       "      <td>0</td>\n",
       "      <td>13.9</td>\n",
       "      <td>-0.3</td>\n",
       "      <td>0.79</td>\n",
       "      <td>1</td>\n",
       "      <td>85.185539</td>\n",
       "      <td>362200.0</td>\n",
       "    </tr>\n",
       "  </tbody>\n",
       "</table>\n",
       "<p>5 rows × 41 columns</p>\n",
       "</div>"
      ],
      "text/plain": [
       "   Unnamed: 0.1  Unnamed: 0  Marital status  Application mode  \\\n",
       "0             0           0               1                17   \n",
       "1             1           1               1                15   \n",
       "2             2           2               1                 1   \n",
       "3             3           3               1                17   \n",
       "4             4           4               2                39   \n",
       "\n",
       "   Application order  Course  Daytime/evening attendance\\t  \\\n",
       "0                  5     171                             1   \n",
       "1                  1    9254                             1   \n",
       "2                  5    9070                             1   \n",
       "3                  2    9773                             1   \n",
       "4                  1    8014                             0   \n",
       "\n",
       "   Previous qualification  Previous qualification (grade)  Nacionality  ...  \\\n",
       "0                       1                           122.0            1  ...   \n",
       "1                       1                           160.0            1  ...   \n",
       "2                       1                           122.0            1  ...   \n",
       "3                       1                           122.0            1  ...   \n",
       "4                       1                           100.0            1  ...   \n",
       "\n",
       "   Curricular units 2nd sem (evaluations)  \\\n",
       "0                                       0   \n",
       "1                                       6   \n",
       "2                                       0   \n",
       "3                                      10   \n",
       "4                                       6   \n",
       "\n",
       "   Curricular units 2nd sem (approved)  Curricular units 2nd sem (grade)  \\\n",
       "0                                    0                          0.000000   \n",
       "1                                    6                         13.666667   \n",
       "2                                    0                          0.000000   \n",
       "3                                    5                         12.400000   \n",
       "4                                    6                         13.000000   \n",
       "\n",
       "   Curricular units 2nd sem (without evaluations)  Unemployment rate  \\\n",
       "0                                               0               10.8   \n",
       "1                                               0               13.9   \n",
       "2                                               0               10.8   \n",
       "3                                               0                9.4   \n",
       "4                                               0               13.9   \n",
       "\n",
       "   Inflation rate   GDP  Target  Adj net enrollment of lower secondary  \\\n",
       "0             1.4  1.74       0                              85.185539   \n",
       "1            -0.3  0.79       1                              85.185539   \n",
       "2             1.4  1.74       0                              85.185539   \n",
       "3            -0.8 -3.12       1                              85.185539   \n",
       "4            -0.3  0.79       1                              85.185539   \n",
       "\n",
       "   Tertiary educ enrollment(all programs)  \n",
       "0                                362200.0  \n",
       "1                                362200.0  \n",
       "2                                362200.0  \n",
       "3                                362200.0  \n",
       "4                                362200.0  \n",
       "\n",
       "[5 rows x 41 columns]"
      ]
     },
     "execution_count": 2,
     "metadata": {},
     "output_type": "execute_result"
    }
   ],
   "source": [
    "student_data = pd.read_csv(r'student_data.csv')\n",
    "student_data.head()"
   ]
  },
  {
   "cell_type": "code",
   "execution_count": 3,
   "id": "6cf42ca3",
   "metadata": {},
   "outputs": [],
   "source": [
    "student_data = student_data.drop(columns=['Unnamed: 0.1','Unnamed: 0'])"
   ]
  },
  {
   "cell_type": "code",
   "execution_count": 4,
   "id": "54909c7b",
   "metadata": {},
   "outputs": [
    {
     "data": {
      "text/html": [
       "<div>\n",
       "<style scoped>\n",
       "    .dataframe tbody tr th:only-of-type {\n",
       "        vertical-align: middle;\n",
       "    }\n",
       "\n",
       "    .dataframe tbody tr th {\n",
       "        vertical-align: top;\n",
       "    }\n",
       "\n",
       "    .dataframe thead th {\n",
       "        text-align: right;\n",
       "    }\n",
       "</style>\n",
       "<table border=\"1\" class=\"dataframe\">\n",
       "  <thead>\n",
       "    <tr style=\"text-align: right;\">\n",
       "      <th></th>\n",
       "      <th>Marital status</th>\n",
       "      <th>Application mode</th>\n",
       "      <th>Application order</th>\n",
       "      <th>Course</th>\n",
       "      <th>Daytime/evening attendance\\t</th>\n",
       "      <th>Previous qualification</th>\n",
       "      <th>Previous qualification (grade)</th>\n",
       "      <th>Nacionality</th>\n",
       "      <th>Mother's qualification</th>\n",
       "      <th>Father's qualification</th>\n",
       "      <th>...</th>\n",
       "      <th>Curricular units 2nd sem (evaluations)</th>\n",
       "      <th>Curricular units 2nd sem (approved)</th>\n",
       "      <th>Curricular units 2nd sem (grade)</th>\n",
       "      <th>Curricular units 2nd sem (without evaluations)</th>\n",
       "      <th>Unemployment rate</th>\n",
       "      <th>Inflation rate</th>\n",
       "      <th>GDP</th>\n",
       "      <th>Target</th>\n",
       "      <th>Adj net enrollment of lower secondary</th>\n",
       "      <th>Tertiary educ enrollment(all programs)</th>\n",
       "    </tr>\n",
       "  </thead>\n",
       "  <tbody>\n",
       "    <tr>\n",
       "      <th>0</th>\n",
       "      <td>1</td>\n",
       "      <td>17</td>\n",
       "      <td>5</td>\n",
       "      <td>171</td>\n",
       "      <td>1</td>\n",
       "      <td>1</td>\n",
       "      <td>122.0</td>\n",
       "      <td>1</td>\n",
       "      <td>19</td>\n",
       "      <td>12</td>\n",
       "      <td>...</td>\n",
       "      <td>0</td>\n",
       "      <td>0</td>\n",
       "      <td>0.000000</td>\n",
       "      <td>0</td>\n",
       "      <td>10.8</td>\n",
       "      <td>1.4</td>\n",
       "      <td>1.74</td>\n",
       "      <td>0</td>\n",
       "      <td>85.185539</td>\n",
       "      <td>362200.0</td>\n",
       "    </tr>\n",
       "    <tr>\n",
       "      <th>1</th>\n",
       "      <td>1</td>\n",
       "      <td>15</td>\n",
       "      <td>1</td>\n",
       "      <td>9254</td>\n",
       "      <td>1</td>\n",
       "      <td>1</td>\n",
       "      <td>160.0</td>\n",
       "      <td>1</td>\n",
       "      <td>1</td>\n",
       "      <td>3</td>\n",
       "      <td>...</td>\n",
       "      <td>6</td>\n",
       "      <td>6</td>\n",
       "      <td>13.666667</td>\n",
       "      <td>0</td>\n",
       "      <td>13.9</td>\n",
       "      <td>-0.3</td>\n",
       "      <td>0.79</td>\n",
       "      <td>1</td>\n",
       "      <td>85.185539</td>\n",
       "      <td>362200.0</td>\n",
       "    </tr>\n",
       "    <tr>\n",
       "      <th>2</th>\n",
       "      <td>1</td>\n",
       "      <td>1</td>\n",
       "      <td>5</td>\n",
       "      <td>9070</td>\n",
       "      <td>1</td>\n",
       "      <td>1</td>\n",
       "      <td>122.0</td>\n",
       "      <td>1</td>\n",
       "      <td>37</td>\n",
       "      <td>37</td>\n",
       "      <td>...</td>\n",
       "      <td>0</td>\n",
       "      <td>0</td>\n",
       "      <td>0.000000</td>\n",
       "      <td>0</td>\n",
       "      <td>10.8</td>\n",
       "      <td>1.4</td>\n",
       "      <td>1.74</td>\n",
       "      <td>0</td>\n",
       "      <td>85.185539</td>\n",
       "      <td>362200.0</td>\n",
       "    </tr>\n",
       "    <tr>\n",
       "      <th>3</th>\n",
       "      <td>1</td>\n",
       "      <td>17</td>\n",
       "      <td>2</td>\n",
       "      <td>9773</td>\n",
       "      <td>1</td>\n",
       "      <td>1</td>\n",
       "      <td>122.0</td>\n",
       "      <td>1</td>\n",
       "      <td>38</td>\n",
       "      <td>37</td>\n",
       "      <td>...</td>\n",
       "      <td>10</td>\n",
       "      <td>5</td>\n",
       "      <td>12.400000</td>\n",
       "      <td>0</td>\n",
       "      <td>9.4</td>\n",
       "      <td>-0.8</td>\n",
       "      <td>-3.12</td>\n",
       "      <td>1</td>\n",
       "      <td>85.185539</td>\n",
       "      <td>362200.0</td>\n",
       "    </tr>\n",
       "    <tr>\n",
       "      <th>4</th>\n",
       "      <td>2</td>\n",
       "      <td>39</td>\n",
       "      <td>1</td>\n",
       "      <td>8014</td>\n",
       "      <td>0</td>\n",
       "      <td>1</td>\n",
       "      <td>100.0</td>\n",
       "      <td>1</td>\n",
       "      <td>37</td>\n",
       "      <td>38</td>\n",
       "      <td>...</td>\n",
       "      <td>6</td>\n",
       "      <td>6</td>\n",
       "      <td>13.000000</td>\n",
       "      <td>0</td>\n",
       "      <td>13.9</td>\n",
       "      <td>-0.3</td>\n",
       "      <td>0.79</td>\n",
       "      <td>1</td>\n",
       "      <td>85.185539</td>\n",
       "      <td>362200.0</td>\n",
       "    </tr>\n",
       "  </tbody>\n",
       "</table>\n",
       "<p>5 rows × 39 columns</p>\n",
       "</div>"
      ],
      "text/plain": [
       "   Marital status  Application mode  Application order  Course  \\\n",
       "0               1                17                  5     171   \n",
       "1               1                15                  1    9254   \n",
       "2               1                 1                  5    9070   \n",
       "3               1                17                  2    9773   \n",
       "4               2                39                  1    8014   \n",
       "\n",
       "   Daytime/evening attendance\\t  Previous qualification  \\\n",
       "0                             1                       1   \n",
       "1                             1                       1   \n",
       "2                             1                       1   \n",
       "3                             1                       1   \n",
       "4                             0                       1   \n",
       "\n",
       "   Previous qualification (grade)  Nacionality  Mother's qualification  \\\n",
       "0                           122.0            1                      19   \n",
       "1                           160.0            1                       1   \n",
       "2                           122.0            1                      37   \n",
       "3                           122.0            1                      38   \n",
       "4                           100.0            1                      37   \n",
       "\n",
       "   Father's qualification  ...  Curricular units 2nd sem (evaluations)  \\\n",
       "0                      12  ...                                       0   \n",
       "1                       3  ...                                       6   \n",
       "2                      37  ...                                       0   \n",
       "3                      37  ...                                      10   \n",
       "4                      38  ...                                       6   \n",
       "\n",
       "   Curricular units 2nd sem (approved)  Curricular units 2nd sem (grade)  \\\n",
       "0                                    0                          0.000000   \n",
       "1                                    6                         13.666667   \n",
       "2                                    0                          0.000000   \n",
       "3                                    5                         12.400000   \n",
       "4                                    6                         13.000000   \n",
       "\n",
       "   Curricular units 2nd sem (without evaluations)  Unemployment rate  \\\n",
       "0                                               0               10.8   \n",
       "1                                               0               13.9   \n",
       "2                                               0               10.8   \n",
       "3                                               0                9.4   \n",
       "4                                               0               13.9   \n",
       "\n",
       "   Inflation rate   GDP  Target  Adj net enrollment of lower secondary  \\\n",
       "0             1.4  1.74       0                              85.185539   \n",
       "1            -0.3  0.79       1                              85.185539   \n",
       "2             1.4  1.74       0                              85.185539   \n",
       "3            -0.8 -3.12       1                              85.185539   \n",
       "4            -0.3  0.79       1                              85.185539   \n",
       "\n",
       "   Tertiary educ enrollment(all programs)  \n",
       "0                                362200.0  \n",
       "1                                362200.0  \n",
       "2                                362200.0  \n",
       "3                                362200.0  \n",
       "4                                362200.0  \n",
       "\n",
       "[5 rows x 39 columns]"
      ]
     },
     "execution_count": 4,
     "metadata": {},
     "output_type": "execute_result"
    }
   ],
   "source": [
    "student_data.head()"
   ]
  },
  {
   "cell_type": "markdown",
   "id": "3ac6e123",
   "metadata": {},
   "source": [
    "# Train/ Test Split "
   ]
  },
  {
   "cell_type": "markdown",
   "id": "aa452766",
   "metadata": {},
   "source": [
    "### Spilling the dataset into training and test "
   ]
  },
  {
   "cell_type": "code",
   "execution_count": 5,
   "id": "dcffd561",
   "metadata": {},
   "outputs": [],
   "source": [
    "# Split used: 70/30\n",
    "X_train,X_test,y_train,y_test = train_test_split(student_data.drop(columns='Target'),student_data.Target,test_size=0.3,random_state=47)"
   ]
  },
  {
   "cell_type": "code",
   "execution_count": 6,
   "id": "df42b340",
   "metadata": {},
   "outputs": [
    {
     "data": {
      "text/plain": [
       "((3096, 38), (1328, 38))"
      ]
     },
     "execution_count": 6,
     "metadata": {},
     "output_type": "execute_result"
    }
   ],
   "source": [
    "X_train.shape, X_test.shape"
   ]
  },
  {
   "cell_type": "code",
   "execution_count": 7,
   "id": "c39b74d4",
   "metadata": {},
   "outputs": [
    {
     "data": {
      "text/plain": [
       "((3096,), (1328,))"
      ]
     },
     "execution_count": 7,
     "metadata": {},
     "output_type": "execute_result"
    }
   ],
   "source": [
    "y_train.shape, y_test.shape"
   ]
  },
  {
   "cell_type": "markdown",
   "id": "4a34837e",
   "metadata": {},
   "source": [
    "### Training the model "
   ]
  },
  {
   "cell_type": "markdown",
   "id": "e7ade7b4",
   "metadata": {},
   "source": [
    "#### 1. Using random forest "
   ]
  },
  {
   "cell_type": "code",
   "execution_count": 8,
   "id": "0ed2775c",
   "metadata": {},
   "outputs": [],
   "source": [
    "#imports\n",
    "from sklearn.ensemble import RandomForestClassifier\n",
    "from sklearn.metrics import accuracy_score, confusion_matrix, precision_score, recall_score, ConfusionMatrixDisplay"
   ]
  },
  {
   "cell_type": "code",
   "execution_count": 9,
   "id": "abfec6fd",
   "metadata": {},
   "outputs": [
    {
     "data": {
      "text/html": [
       "<style>#sk-container-id-1 {color: black;background-color: white;}#sk-container-id-1 pre{padding: 0;}#sk-container-id-1 div.sk-toggleable {background-color: white;}#sk-container-id-1 label.sk-toggleable__label {cursor: pointer;display: block;width: 100%;margin-bottom: 0;padding: 0.3em;box-sizing: border-box;text-align: center;}#sk-container-id-1 label.sk-toggleable__label-arrow:before {content: \"▸\";float: left;margin-right: 0.25em;color: #696969;}#sk-container-id-1 label.sk-toggleable__label-arrow:hover:before {color: black;}#sk-container-id-1 div.sk-estimator:hover label.sk-toggleable__label-arrow:before {color: black;}#sk-container-id-1 div.sk-toggleable__content {max-height: 0;max-width: 0;overflow: hidden;text-align: left;background-color: #f0f8ff;}#sk-container-id-1 div.sk-toggleable__content pre {margin: 0.2em;color: black;border-radius: 0.25em;background-color: #f0f8ff;}#sk-container-id-1 input.sk-toggleable__control:checked~div.sk-toggleable__content {max-height: 200px;max-width: 100%;overflow: auto;}#sk-container-id-1 input.sk-toggleable__control:checked~label.sk-toggleable__label-arrow:before {content: \"▾\";}#sk-container-id-1 div.sk-estimator input.sk-toggleable__control:checked~label.sk-toggleable__label {background-color: #d4ebff;}#sk-container-id-1 div.sk-label input.sk-toggleable__control:checked~label.sk-toggleable__label {background-color: #d4ebff;}#sk-container-id-1 input.sk-hidden--visually {border: 0;clip: rect(1px 1px 1px 1px);clip: rect(1px, 1px, 1px, 1px);height: 1px;margin: -1px;overflow: hidden;padding: 0;position: absolute;width: 1px;}#sk-container-id-1 div.sk-estimator {font-family: monospace;background-color: #f0f8ff;border: 1px dotted black;border-radius: 0.25em;box-sizing: border-box;margin-bottom: 0.5em;}#sk-container-id-1 div.sk-estimator:hover {background-color: #d4ebff;}#sk-container-id-1 div.sk-parallel-item::after {content: \"\";width: 100%;border-bottom: 1px solid gray;flex-grow: 1;}#sk-container-id-1 div.sk-label:hover label.sk-toggleable__label {background-color: #d4ebff;}#sk-container-id-1 div.sk-serial::before {content: \"\";position: absolute;border-left: 1px solid gray;box-sizing: border-box;top: 0;bottom: 0;left: 50%;z-index: 0;}#sk-container-id-1 div.sk-serial {display: flex;flex-direction: column;align-items: center;background-color: white;padding-right: 0.2em;padding-left: 0.2em;position: relative;}#sk-container-id-1 div.sk-item {position: relative;z-index: 1;}#sk-container-id-1 div.sk-parallel {display: flex;align-items: stretch;justify-content: center;background-color: white;position: relative;}#sk-container-id-1 div.sk-item::before, #sk-container-id-1 div.sk-parallel-item::before {content: \"\";position: absolute;border-left: 1px solid gray;box-sizing: border-box;top: 0;bottom: 0;left: 50%;z-index: -1;}#sk-container-id-1 div.sk-parallel-item {display: flex;flex-direction: column;z-index: 1;position: relative;background-color: white;}#sk-container-id-1 div.sk-parallel-item:first-child::after {align-self: flex-end;width: 50%;}#sk-container-id-1 div.sk-parallel-item:last-child::after {align-self: flex-start;width: 50%;}#sk-container-id-1 div.sk-parallel-item:only-child::after {width: 0;}#sk-container-id-1 div.sk-dashed-wrapped {border: 1px dashed gray;margin: 0 0.4em 0.5em 0.4em;box-sizing: border-box;padding-bottom: 0.4em;background-color: white;}#sk-container-id-1 div.sk-label label {font-family: monospace;font-weight: bold;display: inline-block;line-height: 1.2em;}#sk-container-id-1 div.sk-label-container {text-align: center;}#sk-container-id-1 div.sk-container {/* jupyter's `normalize.less` sets `[hidden] { display: none; }` but bootstrap.min.css set `[hidden] { display: none !important; }` so we also need the `!important` here to be able to override the default hidden behavior on the sphinx rendered scikit-learn.org. See: https://github.com/scikit-learn/scikit-learn/issues/21755 */display: inline-block !important;position: relative;}#sk-container-id-1 div.sk-text-repr-fallback {display: none;}</style><div id=\"sk-container-id-1\" class=\"sk-top-container\"><div class=\"sk-text-repr-fallback\"><pre>RandomForestClassifier()</pre><b>In a Jupyter environment, please rerun this cell to show the HTML representation or trust the notebook. <br />On GitHub, the HTML representation is unable to render, please try loading this page with nbviewer.org.</b></div><div class=\"sk-container\" hidden><div class=\"sk-item\"><div class=\"sk-estimator sk-toggleable\"><input class=\"sk-toggleable__control sk-hidden--visually\" id=\"sk-estimator-id-1\" type=\"checkbox\" checked><label for=\"sk-estimator-id-1\" class=\"sk-toggleable__label sk-toggleable__label-arrow\">RandomForestClassifier</label><div class=\"sk-toggleable__content\"><pre>RandomForestClassifier()</pre></div></div></div></div></div>"
      ],
      "text/plain": [
       "RandomForestClassifier()"
      ]
     },
     "execution_count": 9,
     "metadata": {},
     "output_type": "execute_result"
    }
   ],
   "source": [
    "# Creating random forest classifier\n",
    "rf = RandomForestClassifier()\n",
    "rf.fit(X_train, y_train)"
   ]
  },
  {
   "cell_type": "code",
   "execution_count": 10,
   "id": "e0ac488a",
   "metadata": {},
   "outputs": [],
   "source": [
    "y_pred = rf.predict(X_test)"
   ]
  },
  {
   "cell_type": "code",
   "execution_count": 11,
   "id": "6caba1dc",
   "metadata": {},
   "outputs": [
    {
     "name": "stdout",
     "output_type": "stream",
     "text": [
      "Accuracy Score: 0.7876506024096386\n"
     ]
    }
   ],
   "source": [
    "accuracy_RF = accuracy_score(y_test, y_pred)\n",
    "print(\"Accuracy Score:\", accuracy_RF)"
   ]
  },
  {
   "cell_type": "code",
   "execution_count": 12,
   "id": "3503966f",
   "metadata": {},
   "outputs": [],
   "source": [
    "x_train_rf_pred = rf.predict(X_train)"
   ]
  },
  {
   "cell_type": "code",
   "execution_count": 13,
   "id": "137c2530",
   "metadata": {},
   "outputs": [],
   "source": [
    "# Training accuracy of Random Forest \n",
    "training_rf_ac = accuracy_score(y_train, x_train_rf_pred)"
   ]
  },
  {
   "cell_type": "code",
   "execution_count": 14,
   "id": "7755b82b",
   "metadata": {},
   "outputs": [
    {
     "name": "stdout",
     "output_type": "stream",
     "text": [
      "Training Accuracy: 1.0\n"
     ]
    }
   ],
   "source": [
    "print(\"Training Accuracy:\", training_rf_ac )"
   ]
  },
  {
   "cell_type": "code",
   "execution_count": 15,
   "id": "66c55caa",
   "metadata": {},
   "outputs": [],
   "source": [
    "x_test_rf_pred = rf.predict(X_test)"
   ]
  },
  {
   "cell_type": "code",
   "execution_count": 16,
   "id": "37da7b21",
   "metadata": {},
   "outputs": [],
   "source": [
    "# Testing accuracy of Random Forest \n",
    "testing_rf_ac = accuracy_score(y_test, x_test_rf_pred)"
   ]
  },
  {
   "cell_type": "code",
   "execution_count": 17,
   "id": "372a42a4",
   "metadata": {},
   "outputs": [
    {
     "name": "stdout",
     "output_type": "stream",
     "text": [
      "Testing Accuracy: 0.7876506024096386\n"
     ]
    }
   ],
   "source": [
    "print(\"Testing Accuracy:\", testing_rf_ac)"
   ]
  },
  {
   "cell_type": "markdown",
   "id": "7ff72a72",
   "metadata": {},
   "source": [
    "##### Optimizing accuracy using  RandomizedSearchCV"
   ]
  },
  {
   "cell_type": "code",
   "execution_count": 18,
   "id": "48ebe73c",
   "metadata": {},
   "outputs": [],
   "source": [
    "# Paramters \n",
    "param_randomforest = {'n_estimators':[50,80,100,120,150],\n",
    "                      'max_depth':[2,4,6,8]}"
   ]
  },
  {
   "cell_type": "code",
   "execution_count": 19,
   "id": "f1fc75a3",
   "metadata": {},
   "outputs": [
    {
     "data": {
      "text/html": [
       "<style>#sk-container-id-2 {color: black;background-color: white;}#sk-container-id-2 pre{padding: 0;}#sk-container-id-2 div.sk-toggleable {background-color: white;}#sk-container-id-2 label.sk-toggleable__label {cursor: pointer;display: block;width: 100%;margin-bottom: 0;padding: 0.3em;box-sizing: border-box;text-align: center;}#sk-container-id-2 label.sk-toggleable__label-arrow:before {content: \"▸\";float: left;margin-right: 0.25em;color: #696969;}#sk-container-id-2 label.sk-toggleable__label-arrow:hover:before {color: black;}#sk-container-id-2 div.sk-estimator:hover label.sk-toggleable__label-arrow:before {color: black;}#sk-container-id-2 div.sk-toggleable__content {max-height: 0;max-width: 0;overflow: hidden;text-align: left;background-color: #f0f8ff;}#sk-container-id-2 div.sk-toggleable__content pre {margin: 0.2em;color: black;border-radius: 0.25em;background-color: #f0f8ff;}#sk-container-id-2 input.sk-toggleable__control:checked~div.sk-toggleable__content {max-height: 200px;max-width: 100%;overflow: auto;}#sk-container-id-2 input.sk-toggleable__control:checked~label.sk-toggleable__label-arrow:before {content: \"▾\";}#sk-container-id-2 div.sk-estimator input.sk-toggleable__control:checked~label.sk-toggleable__label {background-color: #d4ebff;}#sk-container-id-2 div.sk-label input.sk-toggleable__control:checked~label.sk-toggleable__label {background-color: #d4ebff;}#sk-container-id-2 input.sk-hidden--visually {border: 0;clip: rect(1px 1px 1px 1px);clip: rect(1px, 1px, 1px, 1px);height: 1px;margin: -1px;overflow: hidden;padding: 0;position: absolute;width: 1px;}#sk-container-id-2 div.sk-estimator {font-family: monospace;background-color: #f0f8ff;border: 1px dotted black;border-radius: 0.25em;box-sizing: border-box;margin-bottom: 0.5em;}#sk-container-id-2 div.sk-estimator:hover {background-color: #d4ebff;}#sk-container-id-2 div.sk-parallel-item::after {content: \"\";width: 100%;border-bottom: 1px solid gray;flex-grow: 1;}#sk-container-id-2 div.sk-label:hover label.sk-toggleable__label {background-color: #d4ebff;}#sk-container-id-2 div.sk-serial::before {content: \"\";position: absolute;border-left: 1px solid gray;box-sizing: border-box;top: 0;bottom: 0;left: 50%;z-index: 0;}#sk-container-id-2 div.sk-serial {display: flex;flex-direction: column;align-items: center;background-color: white;padding-right: 0.2em;padding-left: 0.2em;position: relative;}#sk-container-id-2 div.sk-item {position: relative;z-index: 1;}#sk-container-id-2 div.sk-parallel {display: flex;align-items: stretch;justify-content: center;background-color: white;position: relative;}#sk-container-id-2 div.sk-item::before, #sk-container-id-2 div.sk-parallel-item::before {content: \"\";position: absolute;border-left: 1px solid gray;box-sizing: border-box;top: 0;bottom: 0;left: 50%;z-index: -1;}#sk-container-id-2 div.sk-parallel-item {display: flex;flex-direction: column;z-index: 1;position: relative;background-color: white;}#sk-container-id-2 div.sk-parallel-item:first-child::after {align-self: flex-end;width: 50%;}#sk-container-id-2 div.sk-parallel-item:last-child::after {align-self: flex-start;width: 50%;}#sk-container-id-2 div.sk-parallel-item:only-child::after {width: 0;}#sk-container-id-2 div.sk-dashed-wrapped {border: 1px dashed gray;margin: 0 0.4em 0.5em 0.4em;box-sizing: border-box;padding-bottom: 0.4em;background-color: white;}#sk-container-id-2 div.sk-label label {font-family: monospace;font-weight: bold;display: inline-block;line-height: 1.2em;}#sk-container-id-2 div.sk-label-container {text-align: center;}#sk-container-id-2 div.sk-container {/* jupyter's `normalize.less` sets `[hidden] { display: none; }` but bootstrap.min.css set `[hidden] { display: none !important; }` so we also need the `!important` here to be able to override the default hidden behavior on the sphinx rendered scikit-learn.org. See: https://github.com/scikit-learn/scikit-learn/issues/21755 */display: inline-block !important;position: relative;}#sk-container-id-2 div.sk-text-repr-fallback {display: none;}</style><div id=\"sk-container-id-2\" class=\"sk-top-container\"><div class=\"sk-text-repr-fallback\"><pre>RandomizedSearchCV(cv=5, estimator=RandomForestClassifier(), n_iter=5,\n",
       "                   param_distributions={&#x27;max_depth&#x27;: [2, 4, 6, 8],\n",
       "                                        &#x27;n_estimators&#x27;: [50, 80, 100, 120,\n",
       "                                                         150]})</pre><b>In a Jupyter environment, please rerun this cell to show the HTML representation or trust the notebook. <br />On GitHub, the HTML representation is unable to render, please try loading this page with nbviewer.org.</b></div><div class=\"sk-container\" hidden><div class=\"sk-item sk-dashed-wrapped\"><div class=\"sk-label-container\"><div class=\"sk-label sk-toggleable\"><input class=\"sk-toggleable__control sk-hidden--visually\" id=\"sk-estimator-id-2\" type=\"checkbox\" ><label for=\"sk-estimator-id-2\" class=\"sk-toggleable__label sk-toggleable__label-arrow\">RandomizedSearchCV</label><div class=\"sk-toggleable__content\"><pre>RandomizedSearchCV(cv=5, estimator=RandomForestClassifier(), n_iter=5,\n",
       "                   param_distributions={&#x27;max_depth&#x27;: [2, 4, 6, 8],\n",
       "                                        &#x27;n_estimators&#x27;: [50, 80, 100, 120,\n",
       "                                                         150]})</pre></div></div></div><div class=\"sk-parallel\"><div class=\"sk-parallel-item\"><div class=\"sk-item\"><div class=\"sk-label-container\"><div class=\"sk-label sk-toggleable\"><input class=\"sk-toggleable__control sk-hidden--visually\" id=\"sk-estimator-id-3\" type=\"checkbox\" ><label for=\"sk-estimator-id-3\" class=\"sk-toggleable__label sk-toggleable__label-arrow\">estimator: RandomForestClassifier</label><div class=\"sk-toggleable__content\"><pre>RandomForestClassifier()</pre></div></div></div><div class=\"sk-serial\"><div class=\"sk-item\"><div class=\"sk-estimator sk-toggleable\"><input class=\"sk-toggleable__control sk-hidden--visually\" id=\"sk-estimator-id-4\" type=\"checkbox\" ><label for=\"sk-estimator-id-4\" class=\"sk-toggleable__label sk-toggleable__label-arrow\">RandomForestClassifier</label><div class=\"sk-toggleable__content\"><pre>RandomForestClassifier()</pre></div></div></div></div></div></div></div></div></div></div>"
      ],
      "text/plain": [
       "RandomizedSearchCV(cv=5, estimator=RandomForestClassifier(), n_iter=5,\n",
       "                   param_distributions={'max_depth': [2, 4, 6, 8],\n",
       "                                        'n_estimators': [50, 80, 100, 120,\n",
       "                                                         150]})"
      ]
     },
     "execution_count": 19,
     "metadata": {},
     "output_type": "execute_result"
    }
   ],
   "source": [
    "# Creating random forest classifier\n",
    "rf = RandomForestClassifier()\n",
    "\n",
    "# Using random search to find best hyperparameters\n",
    "rand_search = RandomizedSearchCV(rf, \n",
    "                                 param_distributions = param_randomforest , \n",
    "                                 n_iter=5, \n",
    "                                 cv=5)\n",
    "\n",
    "# Fitting the random search object to the data\n",
    "rand_search.fit(X_train, y_train)"
   ]
  },
  {
   "cell_type": "code",
   "execution_count": 20,
   "id": "ba98cce1",
   "metadata": {},
   "outputs": [
    {
     "name": "stdout",
     "output_type": "stream",
     "text": [
      "Best hyperparameters: RandomForestClassifier(max_depth=8, n_estimators=80)\n"
     ]
    }
   ],
   "source": [
    "# Best hyperparameters for random forest \n",
    "best_rf = rand_search.best_estimator_\n",
    "\n",
    "print('Best hyperparameters:',  best_rf)"
   ]
  },
  {
   "cell_type": "code",
   "execution_count": 21,
   "id": "79211f1c",
   "metadata": {},
   "outputs": [],
   "source": [
    "X_train_pred_RF = rand_search.predict(X_train)"
   ]
  },
  {
   "cell_type": "code",
   "execution_count": 22,
   "id": "646908cd",
   "metadata": {},
   "outputs": [
    {
     "name": "stdout",
     "output_type": "stream",
     "text": [
      "The training accuracy after Hyperparameter Tuning: 0.8481912144702842\n"
     ]
    }
   ],
   "source": [
    "# Training accuracy of Random Forest after hyperparameter tuning\n",
    "training_accuracy_RF = accuracy_score(y_train, X_train_pred_RF)\n",
    "print(\"The training accuracy after Hyperparameter Tuning:\", training_accuracy_RF)"
   ]
  },
  {
   "cell_type": "code",
   "execution_count": 23,
   "id": "f20f798b",
   "metadata": {},
   "outputs": [],
   "source": [
    "X_test_pred_RF = rand_search.predict(X_test)"
   ]
  },
  {
   "cell_type": "code",
   "execution_count": 24,
   "id": "2b3c8c98",
   "metadata": {},
   "outputs": [
    {
     "name": "stdout",
     "output_type": "stream",
     "text": [
      "The testing accurary after Hyperparameter Tuning: 0.7718373493975904\n"
     ]
    }
   ],
   "source": [
    "# Testing accuracy of Random Forest after hyperparameter tuning\n",
    "testing_accuracy_RF =  accuracy_score(y_test, X_test_pred_RF)\n",
    "print(\"The testing accurary after Hyperparameter Tuning:\", testing_accuracy_RF)"
   ]
  },
  {
   "cell_type": "code",
   "execution_count": 25,
   "id": "748141b3",
   "metadata": {
    "scrolled": true
   },
   "outputs": [
    {
     "data": {
      "image/png": "[encoded data removed]",
      "text/plain": [
       "<Figure size 640x480 with 2 Axes>"
      ]
     },
     "metadata": {},
     "output_type": "display_data"
    }
   ],
   "source": [
    "# Confusion matrix \n",
    "# Generate predictions with the best model\n",
    "y_pred = best_rf.predict(X_test)\n",
    "\n",
    "# Create the confusion matrix\n",
    "cm = confusion_matrix(y_test, y_pred)\n",
    "\n",
    "ConfusionMatrixDisplay(confusion_matrix=cm).plot();"
   ]
  },
  {
   "cell_type": "markdown",
   "id": "e7738816",
   "metadata": {},
   "source": [
    "#### 2. Using decison Tree "
   ]
  },
  {
   "cell_type": "code",
   "execution_count": 26,
   "id": "8a289a56",
   "metadata": {},
   "outputs": [],
   "source": [
    "classifer = DecisionTreeClassifier()\n",
    "classifer = classifer.fit(X_train,y_train)"
   ]
  },
  {
   "cell_type": "code",
   "execution_count": 27,
   "id": "915d7a9f",
   "metadata": {},
   "outputs": [],
   "source": [
    "y_pred = classifer.predict(X_test)"
   ]
  },
  {
   "cell_type": "code",
   "execution_count": 28,
   "id": "8896ca6c",
   "metadata": {},
   "outputs": [
    {
     "name": "stdout",
     "output_type": "stream",
     "text": [
      "Accuracy Score: 1.0\n"
     ]
    }
   ],
   "source": [
    "# Accuary of Decision Tree\n",
    "accuracy_DT = classifer.score(X_test, y_pred)\n",
    "print('Accuracy Score:', accuracy_DT)"
   ]
  },
  {
   "cell_type": "code",
   "execution_count": 29,
   "id": "4a261d87",
   "metadata": {},
   "outputs": [],
   "source": [
    "x_train_DT_pred = classifer.predict(X_train)"
   ]
  },
  {
   "cell_type": "code",
   "execution_count": 30,
   "id": "245805d9",
   "metadata": {},
   "outputs": [
    {
     "name": "stdout",
     "output_type": "stream",
     "text": [
      "Training Accuracy: 1.0\n"
     ]
    }
   ],
   "source": [
    "# Training Accuracy of Decision Tree \n",
    "training_DT_ac = accuracy_score(y_train, x_train_DT_pred)\n",
    "print(\"Training Accuracy:\", training_DT_ac)"
   ]
  },
  {
   "cell_type": "code",
   "execution_count": 31,
   "id": "572e6659",
   "metadata": {},
   "outputs": [],
   "source": [
    "x_test_DT = classifer.predict(X_test)"
   ]
  },
  {
   "cell_type": "code",
   "execution_count": 32,
   "id": "fbf95f1d",
   "metadata": {},
   "outputs": [
    {
     "name": "stdout",
     "output_type": "stream",
     "text": [
      "Testing Accuracy: 0.6807228915662651\n"
     ]
    }
   ],
   "source": [
    "# Testing Accuracy of Decision Tree \n",
    "testing_DT = accuracy_score(y_test, x_test_DT)\n",
    "print(\"Testing Accuracy:\", testing_DT)"
   ]
  },
  {
   "cell_type": "markdown",
   "id": "0f856e10",
   "metadata": {},
   "source": [
    "##### Optimizing Accuracy with GridSearchCV"
   ]
  },
  {
   "cell_type": "code",
   "execution_count": 33,
   "id": "c08d8d66",
   "metadata": {},
   "outputs": [],
   "source": [
    "# Paramters \n",
    "param_decisiontree = {'max_depth':[2,4,6,8], \n",
    "                      'min_samples_leaf':[2,4,6,8],\n",
    "                      'min_samples_split':[2,5,10,12]}"
   ]
  },
  {
   "cell_type": "code",
   "execution_count": 34,
   "id": "bb5750a8",
   "metadata": {},
   "outputs": [],
   "source": [
    "grid_search = GridSearchCV(classifer, param_grid=param_decisiontree , cv=5, n_jobs=-1)"
   ]
  },
  {
   "cell_type": "code",
   "execution_count": 35,
   "id": "a1961732",
   "metadata": {},
   "outputs": [
    {
     "data": {
      "text/html": [
       "<style>#sk-container-id-3 {color: black;background-color: white;}#sk-container-id-3 pre{padding: 0;}#sk-container-id-3 div.sk-toggleable {background-color: white;}#sk-container-id-3 label.sk-toggleable__label {cursor: pointer;display: block;width: 100%;margin-bottom: 0;padding: 0.3em;box-sizing: border-box;text-align: center;}#sk-container-id-3 label.sk-toggleable__label-arrow:before {content: \"▸\";float: left;margin-right: 0.25em;color: #696969;}#sk-container-id-3 label.sk-toggleable__label-arrow:hover:before {color: black;}#sk-container-id-3 div.sk-estimator:hover label.sk-toggleable__label-arrow:before {color: black;}#sk-container-id-3 div.sk-toggleable__content {max-height: 0;max-width: 0;overflow: hidden;text-align: left;background-color: #f0f8ff;}#sk-container-id-3 div.sk-toggleable__content pre {margin: 0.2em;color: black;border-radius: 0.25em;background-color: #f0f8ff;}#sk-container-id-3 input.sk-toggleable__control:checked~div.sk-toggleable__content {max-height: 200px;max-width: 100%;overflow: auto;}#sk-container-id-3 input.sk-toggleable__control:checked~label.sk-toggleable__label-arrow:before {content: \"▾\";}#sk-container-id-3 div.sk-estimator input.sk-toggleable__control:checked~label.sk-toggleable__label {background-color: #d4ebff;}#sk-container-id-3 div.sk-label input.sk-toggleable__control:checked~label.sk-toggleable__label {background-color: #d4ebff;}#sk-container-id-3 input.sk-hidden--visually {border: 0;clip: rect(1px 1px 1px 1px);clip: rect(1px, 1px, 1px, 1px);height: 1px;margin: -1px;overflow: hidden;padding: 0;position: absolute;width: 1px;}#sk-container-id-3 div.sk-estimator {font-family: monospace;background-color: #f0f8ff;border: 1px dotted black;border-radius: 0.25em;box-sizing: border-box;margin-bottom: 0.5em;}#sk-container-id-3 div.sk-estimator:hover {background-color: #d4ebff;}#sk-container-id-3 div.sk-parallel-item::after {content: \"\";width: 100%;border-bottom: 1px solid gray;flex-grow: 1;}#sk-container-id-3 div.sk-label:hover label.sk-toggleable__label {background-color: #d4ebff;}#sk-container-id-3 div.sk-serial::before {content: \"\";position: absolute;border-left: 1px solid gray;box-sizing: border-box;top: 0;bottom: 0;left: 50%;z-index: 0;}#sk-container-id-3 div.sk-serial {display: flex;flex-direction: column;align-items: center;background-color: white;padding-right: 0.2em;padding-left: 0.2em;position: relative;}#sk-container-id-3 div.sk-item {position: relative;z-index: 1;}#sk-container-id-3 div.sk-parallel {display: flex;align-items: stretch;justify-content: center;background-color: white;position: relative;}#sk-container-id-3 div.sk-item::before, #sk-container-id-3 div.sk-parallel-item::before {content: \"\";position: absolute;border-left: 1px solid gray;box-sizing: border-box;top: 0;bottom: 0;left: 50%;z-index: -1;}#sk-container-id-3 div.sk-parallel-item {display: flex;flex-direction: column;z-index: 1;position: relative;background-color: white;}#sk-container-id-3 div.sk-parallel-item:first-child::after {align-self: flex-end;width: 50%;}#sk-container-id-3 div.sk-parallel-item:last-child::after {align-self: flex-start;width: 50%;}#sk-container-id-3 div.sk-parallel-item:only-child::after {width: 0;}#sk-container-id-3 div.sk-dashed-wrapped {border: 1px dashed gray;margin: 0 0.4em 0.5em 0.4em;box-sizing: border-box;padding-bottom: 0.4em;background-color: white;}#sk-container-id-3 div.sk-label label {font-family: monospace;font-weight: bold;display: inline-block;line-height: 1.2em;}#sk-container-id-3 div.sk-label-container {text-align: center;}#sk-container-id-3 div.sk-container {/* jupyter's `normalize.less` sets `[hidden] { display: none; }` but bootstrap.min.css set `[hidden] { display: none !important; }` so we also need the `!important` here to be able to override the default hidden behavior on the sphinx rendered scikit-learn.org. See: https://github.com/scikit-learn/scikit-learn/issues/21755 */display: inline-block !important;position: relative;}#sk-container-id-3 div.sk-text-repr-fallback {display: none;}</style><div id=\"sk-container-id-3\" class=\"sk-top-container\"><div class=\"sk-text-repr-fallback\"><pre>GridSearchCV(cv=5, estimator=DecisionTreeClassifier(), n_jobs=-1,\n",
       "             param_grid={&#x27;max_depth&#x27;: [2, 4, 6, 8],\n",
       "                         &#x27;min_samples_leaf&#x27;: [2, 4, 6, 8],\n",
       "                         &#x27;min_samples_split&#x27;: [2, 5, 10, 12]})</pre><b>In a Jupyter environment, please rerun this cell to show the HTML representation or trust the notebook. <br />On GitHub, the HTML representation is unable to render, please try loading this page with nbviewer.org.</b></div><div class=\"sk-container\" hidden><div class=\"sk-item sk-dashed-wrapped\"><div class=\"sk-label-container\"><div class=\"sk-label sk-toggleable\"><input class=\"sk-toggleable__control sk-hidden--visually\" id=\"sk-estimator-id-5\" type=\"checkbox\" ><label for=\"sk-estimator-id-5\" class=\"sk-toggleable__label sk-toggleable__label-arrow\">GridSearchCV</label><div class=\"sk-toggleable__content\"><pre>GridSearchCV(cv=5, estimator=DecisionTreeClassifier(), n_jobs=-1,\n",
       "             param_grid={&#x27;max_depth&#x27;: [2, 4, 6, 8],\n",
       "                         &#x27;min_samples_leaf&#x27;: [2, 4, 6, 8],\n",
       "                         &#x27;min_samples_split&#x27;: [2, 5, 10, 12]})</pre></div></div></div><div class=\"sk-parallel\"><div class=\"sk-parallel-item\"><div class=\"sk-item\"><div class=\"sk-label-container\"><div class=\"sk-label sk-toggleable\"><input class=\"sk-toggleable__control sk-hidden--visually\" id=\"sk-estimator-id-6\" type=\"checkbox\" ><label for=\"sk-estimator-id-6\" class=\"sk-toggleable__label sk-toggleable__label-arrow\">estimator: DecisionTreeClassifier</label><div class=\"sk-toggleable__content\"><pre>DecisionTreeClassifier()</pre></div></div></div><div class=\"sk-serial\"><div class=\"sk-item\"><div class=\"sk-estimator sk-toggleable\"><input class=\"sk-toggleable__control sk-hidden--visually\" id=\"sk-estimator-id-7\" type=\"checkbox\" ><label for=\"sk-estimator-id-7\" class=\"sk-toggleable__label sk-toggleable__label-arrow\">DecisionTreeClassifier</label><div class=\"sk-toggleable__content\"><pre>DecisionTreeClassifier()</pre></div></div></div></div></div></div></div></div></div></div>"
      ],
      "text/plain": [
       "GridSearchCV(cv=5, estimator=DecisionTreeClassifier(), n_jobs=-1,\n",
       "             param_grid={'max_depth': [2, 4, 6, 8],\n",
       "                         'min_samples_leaf': [2, 4, 6, 8],\n",
       "                         'min_samples_split': [2, 5, 10, 12]})"
      ]
     },
     "execution_count": 35,
     "metadata": {},
     "output_type": "execute_result"
    }
   ],
   "source": [
    "grid_search.fit(X_train, y_train)"
   ]
  },
  {
   "cell_type": "code",
   "execution_count": 36,
   "id": "6417df55",
   "metadata": {},
   "outputs": [],
   "source": [
    "X_train_pred_DT = grid_search.predict(X_train)"
   ]
  },
  {
   "cell_type": "code",
   "execution_count": 37,
   "id": "7ea470f2",
   "metadata": {},
   "outputs": [
    {
     "name": "stdout",
     "output_type": "stream",
     "text": [
      "The training accuracy after Hyperparameter Tuning: 0.7548449612403101\n"
     ]
    }
   ],
   "source": [
    "# Training Accuracy after hyperparameter tuning \n",
    "training_accuracy_DT = accuracy_score(y_train, X_train_pred_DT)\n",
    "print(\"The training accuracy after Hyperparameter Tuning:\", training_accuracy_DT)"
   ]
  },
  {
   "cell_type": "code",
   "execution_count": 38,
   "id": "92ed9e0c",
   "metadata": {},
   "outputs": [],
   "source": [
    "X_test_pred_DT = grid_search.predict(X_test)"
   ]
  },
  {
   "cell_type": "code",
   "execution_count": 39,
   "id": "f139cd20",
   "metadata": {},
   "outputs": [
    {
     "name": "stdout",
     "output_type": "stream",
     "text": [
      "The testing accuracy after Hyperparameter Tuning 0.7439759036144579\n"
     ]
    }
   ],
   "source": [
    "# Testing Accuracy after hyperparameter tuning \n",
    "testing_accuracy_DT =  accuracy_score(y_test, X_test_pred_DT)\n",
    "print(\"The testing accuracy after Hyperparameter Tuning\", testing_accuracy_DT)"
   ]
  },
  {
   "cell_type": "markdown",
   "id": "7f1c5532",
   "metadata": {},
   "source": [
    "#### DataFrame: Accuracy Scores "
   ]
  },
  {
   "cell_type": "code",
   "execution_count": 40,
   "id": "d72b6965",
   "metadata": {},
   "outputs": [
    {
     "data": {
      "text/html": [
       "<div>\n",
       "<style scoped>\n",
       "    .dataframe tbody tr th:only-of-type {\n",
       "        vertical-align: middle;\n",
       "    }\n",
       "\n",
       "    .dataframe tbody tr th {\n",
       "        vertical-align: top;\n",
       "    }\n",
       "\n",
       "    .dataframe thead th {\n",
       "        text-align: right;\n",
       "    }\n",
       "</style>\n",
       "<table border=\"1\" class=\"dataframe\">\n",
       "  <thead>\n",
       "    <tr style=\"text-align: right;\">\n",
       "      <th></th>\n",
       "      <th>Testing Accuracy</th>\n",
       "      <th>Testing Accuracy (After Hyperparameter Tuning)</th>\n",
       "    </tr>\n",
       "    <tr>\n",
       "      <th>Model Name</th>\n",
       "      <th></th>\n",
       "      <th></th>\n",
       "    </tr>\n",
       "  </thead>\n",
       "  <tbody>\n",
       "    <tr>\n",
       "      <th>Random Forest Classifier</th>\n",
       "      <td>0.787651</td>\n",
       "      <td>0.771837</td>\n",
       "    </tr>\n",
       "    <tr>\n",
       "      <th>Decision Tree</th>\n",
       "      <td>0.680723</td>\n",
       "      <td>0.743976</td>\n",
       "    </tr>\n",
       "  </tbody>\n",
       "</table>\n",
       "</div>"
      ],
      "text/plain": [
       "                          Testing Accuracy  \\\n",
       "Model Name                                   \n",
       "Random Forest Classifier          0.787651   \n",
       "Decision Tree                     0.680723   \n",
       "\n",
       "                          Testing Accuracy (After Hyperparameter Tuning)  \n",
       "Model Name                                                                \n",
       "Random Forest Classifier                                        0.771837  \n",
       "Decision Tree                                                   0.743976  "
      ]
     },
     "execution_count": 40,
     "metadata": {},
     "output_type": "execute_result"
    }
   ],
   "source": [
    "# Dataframe of all accuracy scores \n",
    "scores = pd.DataFrame({\n",
    "    'Model Name' : ['Random Forest Classifier', 'Decision Tree'],\n",
    "    'Testing Accuracy': [testing_rf_ac, testing_DT],\n",
    "    'Testing Accuracy (After Hyperparameter Tuning)' : [testing_accuracy_RF, testing_accuracy_DT]\n",
    "})\n",
    "scores.set_index('Model Name')"
   ]
  },
  {
   "cell_type": "markdown",
   "id": "0389aa7d",
   "metadata": {},
   "source": [
    "# Pickle file "
   ]
  },
  {
   "cell_type": "code",
   "execution_count": 41,
   "id": "25d0948e",
   "metadata": {},
   "outputs": [],
   "source": [
    "model = RandomForestClassifier().fit(X_train, y_train)"
   ]
  },
  {
   "cell_type": "code",
   "execution_count": 42,
   "id": "f0c55e02",
   "metadata": {},
   "outputs": [],
   "source": [
    "with open('predict_student_dropout_academic_success.pkl', 'wb') as f:\n",
    "    pickle.dump(model, f)"
   ]
  },
  {
   "cell_type": "markdown",
   "id": "aa38299b",
   "metadata": {},
   "source": [
    "# Feature Importance "
   ]
  },
  {
   "cell_type": "code",
   "execution_count": 43,
   "id": "e77734b4",
   "metadata": {},
   "outputs": [],
   "source": [
    "# Importance \n",
    "importance = model.feature_importances_"
   ]
  },
  {
   "cell_type": "code",
   "execution_count": 44,
   "id": "ead0bce0",
   "metadata": {},
   "outputs": [
    {
     "name": "stdout",
     "output_type": "stream",
     "text": [
      "Feature: 0, Score: 0.00374\n",
      "Feature: 1, Score: 0.02024\n",
      "Feature: 2, Score: 0.01465\n",
      "Feature: 3, Score: 0.03638\n",
      "Feature: 4, Score: 0.00260\n",
      "Feature: 5, Score: 0.00640\n",
      "Feature: 6, Score: 0.03788\n",
      "Feature: 7, Score: 0.00186\n",
      "Feature: 8, Score: 0.02157\n",
      "Feature: 9, Score: 0.02277\n",
      "Feature: 10, Score: 0.02676\n",
      "Feature: 11, Score: 0.02905\n",
      "Feature: 12, Score: 0.04257\n",
      "Feature: 13, Score: 0.00772\n",
      "Feature: 14, Score: 0.00155\n",
      "Feature: 15, Score: 0.01036\n",
      "Feature: 16, Score: 0.04413\n",
      "Feature: 17, Score: 0.00971\n",
      "Feature: 18, Score: 0.01404\n",
      "Feature: 19, Score: 0.03613\n",
      "Feature: 20, Score: 0.00107\n",
      "Feature: 21, Score: 0.00757\n",
      "Feature: 22, Score: 0.01917\n",
      "Feature: 23, Score: 0.03579\n",
      "Feature: 24, Score: 0.09607\n",
      "Feature: 25, Score: 0.06951\n",
      "Feature: 26, Score: 0.00474\n",
      "Feature: 27, Score: 0.00600\n",
      "Feature: 28, Score: 0.01897\n",
      "Feature: 29, Score: 0.04215\n",
      "Feature: 30, Score: 0.14461\n",
      "Feature: 31, Score: 0.08750\n",
      "Feature: 32, Score: 0.00503\n",
      "Feature: 33, Score: 0.02282\n",
      "Feature: 34, Score: 0.02115\n",
      "Feature: 35, Score: 0.02429\n",
      "Feature: 36, Score: 0.00175\n",
      "Feature: 37, Score: 0.00170\n"
     ]
    }
   ],
   "source": [
    "# Summary of feature importance\n",
    "for i,v in enumerate(importance):\n",
    " print('Feature: %0d, Score: %.5f' % (i,v))"
   ]
  },
  {
   "cell_type": "code",
   "execution_count": 45,
   "id": "028b8c36",
   "metadata": {},
   "outputs": [
    {
     "data": {
      "image/png": "[encoded data removed]",
      "text/plain": [
       "<Figure size 640x480 with 1 Axes>"
      ]
     },
     "metadata": {},
     "output_type": "display_data"
    }
   ],
   "source": [
    "# Plot of Model Feature Importance\n",
    "plt.bar([x for x in range(len(importance))], importance)\n",
    "plt.title('Model Feature Importance')\n",
    "plt.show()"
   ]
  },
  {
   "cell_type": "code",
   "execution_count": 46,
   "id": "650046db",
   "metadata": {},
   "outputs": [
    {
     "name": "stdout",
     "output_type": "stream",
     "text": [
      "<class 'pandas.core.frame.DataFrame'>\n",
      "RangeIndex: 4424 entries, 0 to 4423\n",
      "Data columns (total 39 columns):\n",
      " #   Column                                          Non-Null Count  Dtype  \n",
      "---  ------                                          --------------  -----  \n",
      " 0   Marital status                                  4424 non-null   int64  \n",
      " 1   Application mode                                4424 non-null   int64  \n",
      " 2   Application order                               4424 non-null   int64  \n",
      " 3   Course                                          4424 non-null   int64  \n",
      " 4   Daytime/evening attendance\t                     4424 non-null   int64  \n",
      " 5   Previous qualification                          4424 non-null   int64  \n",
      " 6   Previous qualification (grade)                  4424 non-null   float64\n",
      " 7   Nacionality                                     4424 non-null   int64  \n",
      " 8   Mother's qualification                          4424 non-null   int64  \n",
      " 9   Father's qualification                          4424 non-null   int64  \n",
      " 10  Mother's occupation                             4424 non-null   int64  \n",
      " 11  Father's occupation                             4424 non-null   int64  \n",
      " 12  Admission grade                                 4424 non-null   float64\n",
      " 13  Displaced                                       4424 non-null   int64  \n",
      " 14  Educational special needs                       4424 non-null   int64  \n",
      " 15  Debtor                                          4424 non-null   int64  \n",
      " 16  Tuition fees up to date                         4424 non-null   int64  \n",
      " 17  Gender                                          4424 non-null   int64  \n",
      " 18  Scholarship holder                              4424 non-null   int64  \n",
      " 19  Age at enrollment                               4424 non-null   int64  \n",
      " 20  International                                   4424 non-null   int64  \n",
      " 21  Curricular units 1st sem (credited)             4424 non-null   int64  \n",
      " 22  Curricular units 1st sem (enrolled)             4424 non-null   int64  \n",
      " 23  Curricular units 1st sem (evaluations)          4424 non-null   int64  \n",
      " 24  Curricular units 1st sem (approved)             4424 non-null   int64  \n",
      " 25  Curricular units 1st sem (grade)                4424 non-null   float64\n",
      " 26  Curricular units 1st sem (without evaluations)  4424 non-null   int64  \n",
      " 27  Curricular units 2nd sem (credited)             4424 non-null   int64  \n",
      " 28  Curricular units 2nd sem (enrolled)             4424 non-null   int64  \n",
      " 29  Curricular units 2nd sem (evaluations)          4424 non-null   int64  \n",
      " 30  Curricular units 2nd sem (approved)             4424 non-null   int64  \n",
      " 31  Curricular units 2nd sem (grade)                4424 non-null   float64\n",
      " 32  Curricular units 2nd sem (without evaluations)  4424 non-null   int64  \n",
      " 33  Unemployment rate                               4424 non-null   float64\n",
      " 34  Inflation rate                                  4424 non-null   float64\n",
      " 35  GDP                                             4424 non-null   float64\n",
      " 36  Target                                          4424 non-null   int64  \n",
      " 37  Adj net enrollment of lower secondary           4424 non-null   float64\n",
      " 38  Tertiary educ enrollment(all programs)          4424 non-null   float64\n",
      "dtypes: float64(9), int64(30)\n",
      "memory usage: 1.3 MB\n"
     ]
    }
   ],
   "source": [
    "student_data.info()"
   ]
  },
  {
   "cell_type": "markdown",
   "id": "6acf3a87",
   "metadata": {},
   "source": [
    "### Model Eval without Grades "
   ]
  },
  {
   "cell_type": "code",
   "execution_count": 53,
   "id": "4d151337",
   "metadata": {},
   "outputs": [],
   "source": [
    "# Creating DataFrame dropping the grades \n",
    "df = student_data.drop(labels=[\"Curricular units 1st sem (credited)\", \n",
    "                         \"Curricular units 1st sem (enrolled)\",\n",
    "                         \"Curricular units 1st sem (evaluations)\",\n",
    "                         \"Curricular units 1st sem (approved)\",\n",
    "                         \"Curricular units 1st sem (grade)\",\n",
    "                         \"Curricular units 1st sem (without evaluations)\",\n",
    "                         \"Curricular units 2nd sem (credited)\", \n",
    "                         \"Curricular units 2nd sem (enrolled)\",\n",
    "                         \"Curricular units 2nd sem (evaluations)\",\n",
    "                         \"Curricular units 2nd sem (approved)\",\n",
    "                         \"Curricular units 2nd sem (grade)\",\n",
    "                         \"Curricular units 2nd sem (without evaluations)\"\n",
    "                        ], axis=1)"
   ]
  },
  {
   "cell_type": "code",
   "execution_count": 54,
   "id": "c3996f2a",
   "metadata": {},
   "outputs": [
    {
     "name": "stdout",
     "output_type": "stream",
     "text": [
      "<class 'pandas.core.frame.DataFrame'>\n",
      "RangeIndex: 4424 entries, 0 to 4423\n",
      "Data columns (total 27 columns):\n",
      " #   Column                                  Non-Null Count  Dtype  \n",
      "---  ------                                  --------------  -----  \n",
      " 0   Marital status                          4424 non-null   int64  \n",
      " 1   Application mode                        4424 non-null   int64  \n",
      " 2   Application order                       4424 non-null   int64  \n",
      " 3   Course                                  4424 non-null   int64  \n",
      " 4   Daytime/evening attendance\t             4424 non-null   int64  \n",
      " 5   Previous qualification                  4424 non-null   int64  \n",
      " 6   Previous qualification (grade)          4424 non-null   float64\n",
      " 7   Nacionality                             4424 non-null   int64  \n",
      " 8   Mother's qualification                  4424 non-null   int64  \n",
      " 9   Father's qualification                  4424 non-null   int64  \n",
      " 10  Mother's occupation                     4424 non-null   int64  \n",
      " 11  Father's occupation                     4424 non-null   int64  \n",
      " 12  Admission grade                         4424 non-null   float64\n",
      " 13  Displaced                               4424 non-null   int64  \n",
      " 14  Educational special needs               4424 non-null   int64  \n",
      " 15  Debtor                                  4424 non-null   int64  \n",
      " 16  Tuition fees up to date                 4424 non-null   int64  \n",
      " 17  Gender                                  4424 non-null   int64  \n",
      " 18  Scholarship holder                      4424 non-null   int64  \n",
      " 19  Age at enrollment                       4424 non-null   int64  \n",
      " 20  International                           4424 non-null   int64  \n",
      " 21  Unemployment rate                       4424 non-null   float64\n",
      " 22  Inflation rate                          4424 non-null   float64\n",
      " 23  GDP                                     4424 non-null   float64\n",
      " 24  Target                                  4424 non-null   int64  \n",
      " 25  Adj net enrollment of lower secondary   4424 non-null   float64\n",
      " 26  Tertiary educ enrollment(all programs)  4424 non-null   float64\n",
      "dtypes: float64(7), int64(20)\n",
      "memory usage: 933.3 KB\n"
     ]
    }
   ],
   "source": [
    "df.info()"
   ]
  },
  {
   "cell_type": "code",
   "execution_count": 56,
   "id": "1c12bca7",
   "metadata": {},
   "outputs": [],
   "source": [
    "X_train,X_test,y_train,y_test = train_test_split(df.drop(columns='Target'),df.Target,test_size=0.3,random_state=47)"
   ]
  },
  {
   "cell_type": "code",
   "execution_count": 58,
   "id": "4b5f2918",
   "metadata": {},
   "outputs": [],
   "source": [
    "model_2 = RandomForestClassifier().fit(X_train, y_train)"
   ]
  },
  {
   "cell_type": "code",
   "execution_count": 59,
   "id": "4b20dd66",
   "metadata": {},
   "outputs": [],
   "source": [
    "# Model importance ( without grades )\n",
    "importance_2 = model_2.feature_importances_"
   ]
  },
  {
   "cell_type": "code",
   "execution_count": 60,
   "id": "a68b0069",
   "metadata": {},
   "outputs": [
    {
     "data": {
      "image/png": "[encoded data removed]",
      "text/plain": [
       "<Figure size 640x480 with 1 Axes>"
      ]
     },
     "metadata": {},
     "output_type": "display_data"
    }
   ],
   "source": [
    "# Plot of Model Feature Importance without Grades \n",
    "plt.bar([x for x in range(len(importance_2))], importance_2)\n",
    "plt.title('Model Feature Importance without Grades')\n",
    "plt.show()"
   ]
  },
  {
   "cell_type": "code",
   "execution_count": 61,
   "id": "0d322257",
   "metadata": {},
   "outputs": [
    {
     "name": "stdout",
     "output_type": "stream",
     "text": [
      "Feature: 0, Score: 0.01032\n",
      "Feature: 1, Score: 0.04498\n",
      "Feature: 2, Score: 0.03001\n",
      "Feature: 3, Score: 0.08097\n",
      "Feature: 4, Score: 0.00668\n",
      "Feature: 5, Score: 0.01603\n",
      "Feature: 6, Score: 0.08603\n",
      "Feature: 7, Score: 0.00304\n",
      "Feature: 8, Score: 0.04668\n",
      "Feature: 9, Score: 0.04668\n",
      "Feature: 10, Score: 0.05665\n",
      "Feature: 11, Score: 0.06509\n",
      "Feature: 12, Score: 0.10178\n",
      "Feature: 13, Score: 0.02011\n",
      "Feature: 14, Score: 0.00308\n",
      "Feature: 15, Score: 0.01821\n",
      "Feature: 16, Score: 0.07823\n",
      "Feature: 17, Score: 0.02502\n",
      "Feature: 18, Score: 0.03708\n",
      "Feature: 19, Score: 0.08491\n",
      "Feature: 20, Score: 0.00196\n",
      "Feature: 21, Score: 0.04389\n",
      "Feature: 22, Score: 0.04101\n",
      "Feature: 23, Score: 0.04648\n",
      "Feature: 24, Score: 0.00234\n",
      "Feature: 25, Score: 0.00275\n"
     ]
    }
   ],
   "source": [
    "# Feature Importance ( without grades)\n",
    "for i,v in enumerate(importance_2):\n",
    " print('Feature: %0d, Score: %.5f' % (i,v))"
   ]
  },
  {
   "cell_type": "markdown",
   "id": "d39ae7f4",
   "metadata": {},
   "source": [
    "# Summary "
   ]
  },
  {
   "cell_type": "markdown",
   "id": "f4709c66",
   "metadata": {},
   "source": [
    "The data was split by the 70:30 ratio. Initially, the Random Forest Classifier gave a testing accuracy rate of 78.5%. After optimizing using RandomizedSearchCV, the training accuracy was 84.6% and the test accuracy was 76.9%. Compared to the Random Forest Classifier, the Decision Tree produced a testing accuracy of 68.1%. After optimizing the result with GridSearchCV, the training accuracy was 75.5% and the test accuracy was 74.3%. Based on these results, the best model was the Random Forest Classifier after hyperparameter tuning.  \n",
    "\n",
    "Based on the model, the feature with the most importance was feature 30, \"Curricular units 2nd sem (approved)\". Feature 24, \" Curricular units 1st sem (approved)\", and feature 31, \"Curricular units 2nd sem (grade)\", tied for second. Indicating semester grades are a major indicator of whether or not a student will graduate.   \n",
    "\n",
    "I decided to re-run the model but this time without the semester grades included to see what other driving factors besides grades played a role. Feature 12, \"Admission grade\", came first in importance. Feature 6, \"Previous qualification (grade)\", and feature 19, \"Age at enrollment\", were also of high importance. With feature 6 edging out feature 19 by 0.00112. Other features worth noting were feature 3, \"Course\", and feature 16, \"Tuition fees up to date\". From these findings, one can see that whether a student graduates is based on more than just grades but also other external factors. \n",
    "\n",
    "\n"
   ]
  },
  {
   "cell_type": "code",
   "execution_count": null,
   "id": "e4ef9fbc",
   "metadata": {},
   "outputs": [],
   "source": []
  }
 ],
 "metadata": {
  "kernelspec": {
   "display_name": "Python 3 (ipykernel)",
   "language": "python",
   "name": "python3"
  },
  "language_info": {
   "codemirror_mode": {
    "name": "ipython",
    "version": 3
   },
   "file_extension": ".py",
   "mimetype": "text/x-python",
   "name": "python",
   "nbconvert_exporter": "python",
   "pygments_lexer": "ipython3",
   "version": "3.10.9"
  }
 },
 "nbformat": 4,
 "nbformat_minor": 5
}
